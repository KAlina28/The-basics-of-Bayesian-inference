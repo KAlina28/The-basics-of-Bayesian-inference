{
 "cells": [
  {
   "cell_type": "markdown",
   "metadata": {
    "slideshow": {
     "slide_type": "slide"
    }
   },
   "source": [
    "### Первое домашнее задание (практическое). NumPy, Pandas\n"
   ]
  },
  {
   "cell_type": "markdown",
   "metadata": {},
   "source": [
    "### Формат сдачи\n",
    "Задания сдаются через сайт emkn. Посылка должна содержать:\n",
    "* Сделанный ноутбук `HW1_numpy_pandas_pr_Username.ipynb`. `Username` — ваша фамилия и имя на латинице именно в таком порядке\n",
    "\n",
    "Для удобства проверки самостоятельно посчитайте свою максимальную оценку (исходя из набора решенных задач) и укажите ниже:\n",
    "\n",
    "__Оценка:__"
   ]
  },
  {
   "cell_type": "markdown",
   "metadata": {
    "id": "7K_rmn1sG9rf"
   },
   "source": [
    "### (8 баллов) Знакомство с Numpy\n",
    "\n",
    "Во всех заданиях данного раздела запрещено использовать циклы (ключевые слова *for* и *while*), [list comprehension](https://habrahabr.ru/post/30232/), [map и т.п.](http://pythonicway.com/python-functinal-programming)\n",
    "\n",
    "Под матрицей в заданиях понимается двумерный [numpy.array](https://docs.scipy.org/doc/numpy/reference/generated/numpy.array.html)"
   ]
  },
  {
   "cell_type": "code",
   "execution_count": 2,
   "metadata": {
    "id": "o-q-l906G8J6"
   },
   "outputs": [],
   "source": [
    "import numpy as np\n",
    "\n",
    "from numpy.testing import assert_array_equal\n",
    "\n",
    "import typing as tp\n",
    "import dataclasses"
   ]
  },
  {
   "cell_type": "markdown",
   "metadata": {
    "id": "suLnp7DcHHE-"
   },
   "source": [
    "**1. (0.5 балла)** Реализуйте функцию, принимающую на вход матрицу ```X``` и два массива индексов ```row_indices``` и ```col_indices``` одинаковой длины и возвращающую np.array, состоящий из последовательности элементов \n",
    "\n",
    "```[X[row_indices[0], col_indices[0]], ... , X[row_indices[N-1], col_indices[N-1]]]```"
   ]
  },
  {
   "cell_type": "code",
   "execution_count": 6,
   "metadata": {
    "id": "gUhj5T5IHFLs"
   },
   "outputs": [],
   "source": [
    "def construct_array(\n",
    "        X: tp.Any,\n",
    "        row_indices: tp.List[int],\n",
    "        col_indices: tp.List[int]) -> tp.Any:\n",
    "    \"\"\"\n",
    "    Construct slice of given matrix by indices row_indices and col_indices:\n",
    "    [X[row_indices[0], col_indices[0]], ... , X[row_indices[N-1], col_indices[N-1]]]\n",
    "    :param X: input matrix\n",
    "    :param row_indices: list of row indices\n",
    "    :param col_indices: list of column indices\n",
    "    :return: matrix slice\n",
    "    \"\"\"\n",
    "    # pass # Your code here\n",
    "    return X[np.array(row_indices, dtype=np.int64), np.array(col_indices, dtype=np.int64)]\n"
   ]
  },
  {
   "cell_type": "code",
   "execution_count": 7,
   "metadata": {},
   "outputs": [],
   "source": [
    "@dataclasses.dataclass\n",
    "class ConstructArrayCase:\n",
    "    matrix: tp.Any\n",
    "    row_indices: tp.Any\n",
    "    col_indices: tp.Any\n",
    "    result: np.array\n",
    "\n",
    "\n",
    "CONSTRUCT_ARRAY_TEST_CASES = [\n",
    "    ConstructArrayCase(matrix=np.array(range(25)).reshape(5, 5),\n",
    "                       row_indices=[0, 1, 2],\n",
    "                       col_indices=[0, 1, 2],\n",
    "                       result=np.array([0, 6, 12])),\n",
    "    ConstructArrayCase(matrix=np.arange(-10, 10).reshape((5, 4)),\n",
    "                       row_indices=[1, 2, 3, 3],\n",
    "                       col_indices=[3, 2, 1, 2],\n",
    "                       result=np.array([-3, 0, 3, 4])),\n",
    "    ConstructArrayCase(matrix=np.arange(42).reshape((7, 6)),\n",
    "                       row_indices=[],\n",
    "                       col_indices=[],\n",
    "                       result=np.array([])),\n",
    "    ConstructArrayCase(matrix=np.arange(42).reshape((7, 6)),\n",
    "                       row_indices=np.arange(4),\n",
    "                       col_indices=np.arange(4),\n",
    "                       result=np.array(np.arange(4)) * 7),\n",
    "    ConstructArrayCase(matrix=np.arange(42).reshape((42, 1)),\n",
    "                       row_indices=[0, 1, 41],\n",
    "                       col_indices=[0, 0, 0],\n",
    "                       result=np.array([0, 1, 41]))\n",
    "]"
   ]
  },
  {
   "cell_type": "code",
   "execution_count": 8,
   "metadata": {},
   "outputs": [
    {
     "name": "stdout",
     "output_type": "stream",
     "text": [
      "Seems all right!\n"
     ]
    }
   ],
   "source": [
    "for t in CONSTRUCT_ARRAY_TEST_CASES:\n",
    "    assert_array_equal(construct_array(t.matrix, t.row_indices, t.col_indices), t.result)\n",
    "print(\"Seems all right!\")"
   ]
  },
  {
   "cell_type": "markdown",
   "metadata": {},
   "source": [
    "**2. (1 балл)** Реализуйте функцию, принимающую на вход два одномерных массива ```x``` и ```y``` и возвращающую матрицу, в которой первый массив соответствует первому столбцу матрицы, второй — второму.\n",
    "\n",
    "В этом задании **запрещается** пользоваться операцией транспонирования и рекомедуется воспользоваться методом [reshape](https://docs.scipy.org/doc/numpy-1.13.0/reference/generated/numpy.reshape.html)."
   ]
  },
  {
   "cell_type": "code",
   "execution_count": 18,
   "metadata": {},
   "outputs": [],
   "source": [
    "def construct_matrix(first_array: tp.Any, second_array: tp.Any) -> tp.Any:\n",
    "    \"\"\"\n",
    "    Construct matrix from pair of arrays\n",
    "    :param first_array: first array\n",
    "    :param second_array: second array\n",
    "    :return: constructed matrix\n",
    "    \"\"\"\n",
    "    # pass # Your code here\n",
    "    return np.concatenate((first_array.reshape(-1, 1), second_array.reshape(-1, 1)), axis=1)"
   ]
  },
  {
   "cell_type": "code",
   "execution_count": 19,
   "metadata": {},
   "outputs": [],
   "source": [
    "@dataclasses.dataclass\n",
    "class ConstructMatrixCase:\n",
    "    first_array: tp.Any\n",
    "    second_array: tp.Any\n",
    "    result: tp.Any\n",
    "\n",
    "\n",
    "CONSTRUCT_MATRIX_TEST_CASES = [\n",
    "    ConstructMatrixCase(\n",
    "        first_array=np.array([1, 2, 3]),\n",
    "        second_array=np.array([4, 5, 6]),\n",
    "        result=np.array([[1, 4], [2, 5], [3, 6]])),\n",
    "    ConstructMatrixCase(\n",
    "        first_array=np.array([]),\n",
    "        second_array=np.array([]),\n",
    "        result=np.array([]).reshape(0, 2)),\n",
    "    ConstructMatrixCase(\n",
    "        first_array=np.array([1]),\n",
    "        second_array=np.array([2]),\n",
    "        result=np.array([[1, 2]])),\n",
    "    ConstructMatrixCase(\n",
    "        first_array=np.arange(0, 100, 2),\n",
    "        second_array=np.arange(1, 100, 2),\n",
    "        result=np.arange(100).reshape(50, 2))\n",
    "]\n"
   ]
  },
  {
   "cell_type": "code",
   "execution_count": 20,
   "metadata": {},
   "outputs": [
    {
     "name": "stdout",
     "output_type": "stream",
     "text": [
      "Seems all right!\n"
     ]
    }
   ],
   "source": [
    "for t in CONSTRUCT_MATRIX_TEST_CASES:\n",
    "    assert_array_equal(construct_matrix(t.first_array, t.second_array), t.result)\n",
    "print(\"Seems all right!\")"
   ]
  },
  {
   "cell_type": "markdown",
   "metadata": {
    "id": "kcTVkJYzHLph"
   },
   "source": [
    "**3. (0.5 балла)** Реализуйте функцию для подсчёта произведения ненулевых элементов на диагонали прямоугольной матрицы\n",
    "\n",
    "Например, для ```X = np.array([[1, 0, 1], [2, 0, 2], [3, 0, 3], [4, 4, 4]])``` ответом является 3.\n",
    "Если ненулевых элементов нет, функция должна возвращать ```None```."
   ]
  },
  {
   "cell_type": "code",
   "execution_count": 34,
   "metadata": {
    "id": "Awt1RoyVHOBl"
   },
   "outputs": [
    {
     "name": "stdout",
     "output_type": "stream",
     "text": [
      "3\n",
      "None\n"
     ]
    }
   ],
   "source": [
    "def nonzero_product(X: tp.Any) -> tp.Optional[float]:\n",
    "    \"\"\"\n",
    "    Compute product of nonzero diagonal elements of matrix\n",
    "    If all diagonal elements are zeros, then return None\n",
    "    :param X: array,\n",
    "    :return: product value or None\n",
    "    \"\"\"\n",
    "    # pass # Your code here\n",
    "    diag = np.diagonal(X)\n",
    "    diag_not0 = np.nonzero(diag)[0]\n",
    "    if diag_not0.size == 0:\n",
    "        return None\n",
    "    return np.prod(diag[diag_not0])\n",
    "    \n",
    "\n",
    "# X = np.array([[1, 0, 1], \n",
    "#               [2, 0, 2], \n",
    "#               [3, 0, 3], \n",
    "#               [4, 4, 4]])\n",
    "\n",
    "# print(nonzero_product(X))\n",
    "\n",
    "# X = np.array([[0, 0, 1], \n",
    "#               [2, 0, 2], \n",
    "#               [3, 0, 0], \n",
    "#               [4, 4, 4]])\n",
    "\n",
    "# print(nonzero_product(X))\n"
   ]
  },
  {
   "cell_type": "markdown",
   "metadata": {
    "id": "zr2iL-s-HQWB"
   },
   "source": [
    "**4. (1 балл)** Реализуйте функцию, возвращающую максимальный элемент в массиве ```X``` среди элементов, перед которыми стоит нулевой.\n",
    "\n",
    "Например, для ```X = np.array([6, 2, 0, 3, 0, 0, 5, 7, 0])``` ответом является 5.\n",
    "Если подходящих элементов нет, функция должна возвращать ```None```."
   ]
  },
  {
   "cell_type": "code",
   "execution_count": 38,
   "metadata": {
    "id": "Vkiuw6mEHT_T"
   },
   "outputs": [
    {
     "name": "stdout",
     "output_type": "stream",
     "text": [
      "None\n",
      "2\n"
     ]
    }
   ],
   "source": [
    "def max_element_spec(array: tp.Any) -> tp.Optional[float]:\n",
    "    \"\"\"\n",
    "    Return max element in front of which is zero for input array.\n",
    "    If appropriate elements are absent, then return None\n",
    "    :param x: array,\n",
    "    :return: max element value or None\n",
    "    \"\"\"\n",
    "    # pass # Your code here\n",
    "    ind_0 = np.where(array[:-1] == 0)[0] + 1\n",
    "    if ind_0.size == 0:\n",
    "        return None\n",
    "    return np.max(array[ind_0])\n",
    "\n",
    "# X = np.array([1, 2, 3, 4, 5, 0])\n",
    "# print(max_element_spec(X))\n",
    "\n",
    "# X = np.array([0, 1, 0, 2, 0, 1, 3, 0])\n",
    "# print(max_element_spec(X))"
   ]
  },
  {
   "cell_type": "markdown",
   "metadata": {
    "id": "35v_P8PfHSiZ"
   },
   "source": [
    "**5. (0.5 балла)** Реализуйте функцию, принимающую на вход матрицу ```X``` и некоторое число ```value``` и возвращающую ближайший к числу элемент матрицы.\n",
    "\n",
    "Например, для ```X = np.arange(0,10).reshape((2, 5))``` и ```value = 3.6``` ответом будет 4."
   ]
  },
  {
   "cell_type": "code",
   "execution_count": 46,
   "metadata": {
    "id": "HXiKj59JHXWH"
   },
   "outputs": [
    {
     "name": "stdout",
     "output_type": "stream",
     "text": [
      "4\n"
     ]
    }
   ],
   "source": [
    "def nearest_value(X: tp.Any, value: float) -> tp.Optional[float]:\n",
    "    \"\"\"\n",
    "    Find nearest value in matrix X.\n",
    "    If matrix X is empty return None\n",
    "    :param X: input matrix\n",
    "    :param value: value to find\n",
    "    :return: nearest value in matrix or None\n",
    "    \"\"\"\n",
    "    # pass # Your code here\n",
    "    if X.size == 0:\n",
    "        return None\n",
    "    res = np.abs(X - value)\n",
    "    return X[np.unravel_index(np.argmin(res), X.shape)]\n",
    "\n",
    "\n",
    "# X = np.arange(0, 10).reshape((2, 5))\n",
    "# print(nearest_value(X, 3.6))"
   ]
  },
  {
   "cell_type": "markdown",
   "metadata": {
    "id": "6WQ_aE9gHZ3C"
   },
   "source": [
    "**6. (0.5 балла)** Реализуйте функцию, принимающую на вход матрицу *X* и возвращающую все встречающиеся в ней строки, но только в единственном экземпляре."
   ]
  },
  {
   "cell_type": "code",
   "execution_count": 47,
   "metadata": {
    "id": "bFrg-B7VHbte"
   },
   "outputs": [
    {
     "name": "stdout",
     "output_type": "stream",
     "text": [
      "[[1 2 3]\n",
      " [4 5 6]]\n"
     ]
    }
   ],
   "source": [
    "def get_unique_rows(X: tp.Any) -> tp.Any:\n",
    "    \"\"\"\n",
    "    Makes unique rows of matrix\n",
    "    :param X: matrix\n",
    "    :return: the sorted unique rows of a matrix\n",
    "    \"\"\"\n",
    "    # pass # Your code here\n",
    "    return np.unique(X, axis=0)\n",
    "\n",
    "# X = np.array([[1, 2, 3],\n",
    "#               [4, 5, 6],\n",
    "#               [1, 2, 3],\n",
    "#               [4, 5, 6]])\n",
    "\n",
    "# print(get_unique_rows(X))"
   ]
  },
  {
   "cell_type": "markdown",
   "metadata": {
    "id": "LS_mO_rJHf4g"
   },
   "source": [
    "**7. (1 балл)** Реализуйте функцию, которая во входной вещественной матрице ```X``` находит все значения ```nan``` и заменяет их на среднее арифметическое всех остальных элементов. Если все элементы матрицы ```nan```, то верните нулевую матрицу той же размерности.\n",
    "\n",
    "Например, матрица ```np.array([[nan,  1,  2,  3], [4, nan,  5, nan]])``` перейдет в ```np.array([[3, 1, 2, 3], [4, 3, 5, 3]])```"
   ]
  },
  {
   "cell_type": "code",
   "execution_count": 61,
   "metadata": {
    "id": "bjf_NFnJHfCM"
   },
   "outputs": [
    {
     "name": "stdout",
     "output_type": "stream",
     "text": [
      "[[1.  2.  3.  3.5]\n",
      " [4.  5.  3.5 6. ]]\n",
      "[[0. 0.]\n",
      " [0. 0.]]\n"
     ]
    }
   ],
   "source": [
    "def replace_nans(matrix: tp.Any) -> tp.Any:\n",
    "    \"\"\"\n",
    "    Replace all nans in matrix with average of other values.\n",
    "    If all values are nans, then return zero matrix of the same size.\n",
    "    :param matrix: matrix,\n",
    "    :return: replaced matrix\n",
    "    \"\"\"\n",
    "    # pass # Your code here\n",
    "    find_not_nan = ~np.isnan(X)\n",
    "    if not np.any(find_not_nan):\n",
    "        return np.zeros_like(matrix)\n",
    "    \n",
    "    mean_withoutnan = np.nanmean(matrix)\n",
    "    matrix[np.isnan(matrix)] = mean_withoutnan\n",
    "    return matrix\n",
    "\n",
    "# X = np.array([[1,  2,  3, np.nan,],\n",
    "#               [4,  5, np.nan, 6]])\n",
    "\n",
    "# print(replace_nans(X))\n",
    "\n",
    "# X = np.array([[np.nan, np.nan],\n",
    "#                [np.nan, np.nan],])\n",
    "# print(replace_nans(X))"
   ]
  },
  {
   "cell_type": "markdown",
   "metadata": {
    "id": "DrAZvyntIJUg"
   },
   "source": [
    "**8. (1 балл)** Написать функцию, которая получает на вход матрицу и масштабирует каждый её столбец, а именно вычитает из столбца его среднее значение и делит столбец на стандартное отклонение. Для тестирования можно сгенерировать с помощью метода *numpy.random.randint* случайную матрицу и проверить на ней работу метода. Убедитесь, что в функции не будет происходить деления на ноль. "
   ]
  },
  {
   "cell_type": "code",
   "execution_count": 69,
   "metadata": {
    "id": "w97rk3QgIKem"
   },
   "outputs": [
    {
     "name": "stdout",
     "output_type": "stream",
     "text": [
      "[[2 8 6 6 2]\n",
      " [5 8 7 3 8]]\n",
      "[[-1.  0. -1.  1. -1.]\n",
      " [ 1.  0.  1. -1.  1.]]\n"
     ]
    }
   ],
   "source": [
    "def scale(X):\n",
    "    \"\"\"\n",
    "    Scales each column of matrix X, \n",
    "    namely, subtracts its mean from the column and \n",
    "    divides the column by the standard deviation.\n",
    "    \"\"\"\n",
    "    # pass # Your code here\n",
    "    std = np.std(X, axis=0)\n",
    "    std[std == 0] = 1    \n",
    "    return (X - np.mean(X, axis=0)) / std\n",
    "    \n",
    "# matrix = np.random.randint(0, 10, size=(2, 5))\n",
    "# print(matrix)\n",
    "# print(scale(matrix))\n"
   ]
  },
  {
   "cell_type": "markdown",
   "metadata": {
    "id": "CMTdIfiEINQM"
   },
   "source": [
    "**9. (1 балл)** Реализуйте функцию, которая для заданной матрицы находит:\n",
    " - определитель\n",
    " - след\n",
    " - наименьший и наибольший элементы\n",
    " - норму Фробениуса\n",
    " - собственные числа\n",
    " - обратную матрицу\n",
    "\n",
    "Для тестирования сгенерируйте матрицу с элементами из нормального распределения *N*(10,1)"
   ]
  },
  {
   "cell_type": "code",
   "execution_count": 81,
   "metadata": {},
   "outputs": [
    {
     "name": "stdout",
     "output_type": "stream",
     "text": [
      "det : 13.366374394289446\n",
      "trace : 41.05566340170754\n",
      "min : 8.854291101750412\n",
      "max : 11.510860618977427\n",
      "frobenius_norm : 40.298822176820565\n",
      "eigenvalues : [40.10614735+0.j          1.47171904+0.j         -0.26110149+0.39784274j\n",
      " -0.26110149-0.39784274j]\n",
      "inv_matrix : [[ 0.44713559 -0.44037255 -0.28671441  0.33700186]\n",
      " [-0.40846621 -0.12228112 -0.40996592  0.91188809]\n",
      " [ 2.59403315 -0.03332531 -1.50506212 -0.85354884]\n",
      " [-2.74015731  0.67921297  2.3437246  -0.4213931 ]]\n"
     ]
    }
   ],
   "source": [
    "def get_matrix_parameters(X):\n",
    "    \"\"\" Определитель\n",
    "    след\n",
    "    наим и наиб элемент\n",
    "    норма Фробениуса\n",
    "    собственные числа\n",
    "    обратная матрица \"\"\"\n",
    "    \n",
    "    det_ = None\n",
    "    if X.shape[0] == X.shape[1]:\n",
    "        det_ = np.linalg.det(X)\n",
    "    \n",
    "    tr_ = np.trace(X)\n",
    "    \n",
    "    min_, max_ = np.min(X) , np.max(X)\n",
    "    \n",
    "    fro_ = np.linalg.norm(X, 'fro')\n",
    "    \n",
    "    eival_ = np.linalg.eigvals(X)  \n",
    "    \n",
    "    inv_ = None\n",
    "    if det_ != None and det_ != 0: \n",
    "        inv_ = np.linalg.inv(X)\n",
    "        \n",
    "    return {\n",
    "        \"det\": det_,\n",
    "        \"trace\": tr_,\n",
    "        \"min\": min_,\n",
    "        \"max\": max_,\n",
    "        \"frobenius_norm\": fro_,\n",
    "        \"eigenvalues\": eival_,\n",
    "        \"inv_matrix\": inv_,\n",
    "    }\n",
    "\n",
    "\n",
    "X = np.random.normal(10, 1, (4, 4))\n",
    "for key, value in get_matrix_parameters(X).items():\n",
    "    print(key, \":\", value)"
   ]
  },
  {
   "cell_type": "markdown",
   "metadata": {
    "id": "dAC4uHb6IZys"
   },
   "source": [
    "**10. (1 балл)** Повторите 100 раз следующий эксперимент: сгенерируйте две матрицы размера 10×10 из стандартного нормального распределения, перемножьте их (как матрицы) и найдите максимальный элемент. Какое среднее значение по экспериментам у максимальных элементов? 95-процентная квантиль? (в данной задаче можно использовать цикл только для повторения эксперимента) \n",
    "Какое распределение у элементов произведения?"
   ]
  },
  {
   "cell_type": "code",
   "execution_count": null,
   "metadata": {},
   "outputs": [],
   "source": [
    "cnt = 100\n",
    "max_ = []\n",
    "all_elements = []\n",
    "\n",
    "for _ in range(cnt):\n",
    "    matrix = np.dot(np.random.normal(0, 1, (10, 10)), np.random.normal(0, 1, (10, 10)))\n",
    "    max_.append(np.max(matrix))\n",
    "    all_elements.extend(matrix.flatten())\n",
    "\n",
    "print(np.mean(max_), \" - среднее значение у макс элементов\")\n",
    "print(np.quantile(max_, 0.95), \" - 95 квантиль\")"
   ]
  },
  {
   "cell_type": "markdown",
   "metadata": {
    "id": "JPUiojnEIlGP"
   },
   "source": [
    "### (4 балла) Pandas \n"
   ]
  },
  {
   "cell_type": "markdown",
   "metadata": {
    "id": "QXhmTiQHImLp"
   },
   "source": [
    "Загрузите данные о пассажирах Титаника из файла *titanic.csv* и ответьте на вопросы ниже. Каждый ответ поясните.\n",
    "\n",
    "**1. (1 балл)** Опишите данный датасет: какое расределение женщин/мужчин в нем? Сколько пассажиров ехало в каждом классе? Какой средний/минимальный/максимальный возраст пассажиров? Сколько было выживших пассажиров?"
   ]
  },
  {
   "cell_type": "code",
   "execution_count": 82,
   "metadata": {
    "id": "FGCmQXuIIdmn"
   },
   "outputs": [],
   "source": [
    "import pandas as pd\n"
   ]
  },
  {
   "cell_type": "code",
   "execution_count": 85,
   "metadata": {},
   "outputs": [
    {
     "data": {
      "text/html": [
       "<div>\n",
       "<style scoped>\n",
       "    .dataframe tbody tr th:only-of-type {\n",
       "        vertical-align: middle;\n",
       "    }\n",
       "\n",
       "    .dataframe tbody tr th {\n",
       "        vertical-align: top;\n",
       "    }\n",
       "\n",
       "    .dataframe thead th {\n",
       "        text-align: right;\n",
       "    }\n",
       "</style>\n",
       "<table border=\"1\" class=\"dataframe\">\n",
       "  <thead>\n",
       "    <tr style=\"text-align: right;\">\n",
       "      <th></th>\n",
       "      <th>PassengerId</th>\n",
       "      <th>Survived</th>\n",
       "      <th>Pclass</th>\n",
       "      <th>Name</th>\n",
       "      <th>Sex</th>\n",
       "      <th>Age</th>\n",
       "      <th>SibSp</th>\n",
       "      <th>Parch</th>\n",
       "      <th>Ticket</th>\n",
       "      <th>Fare</th>\n",
       "      <th>Cabin</th>\n",
       "      <th>Embarked</th>\n",
       "    </tr>\n",
       "  </thead>\n",
       "  <tbody>\n",
       "    <tr>\n",
       "      <th>0</th>\n",
       "      <td>1</td>\n",
       "      <td>0</td>\n",
       "      <td>3</td>\n",
       "      <td>Braund, Mr. Owen Harris</td>\n",
       "      <td>male</td>\n",
       "      <td>22.0</td>\n",
       "      <td>1</td>\n",
       "      <td>0</td>\n",
       "      <td>A/5 21171</td>\n",
       "      <td>7.2500</td>\n",
       "      <td>NaN</td>\n",
       "      <td>S</td>\n",
       "    </tr>\n",
       "    <tr>\n",
       "      <th>1</th>\n",
       "      <td>2</td>\n",
       "      <td>1</td>\n",
       "      <td>1</td>\n",
       "      <td>Cumings, Mrs. John Bradley (Florence Briggs Th...</td>\n",
       "      <td>female</td>\n",
       "      <td>38.0</td>\n",
       "      <td>1</td>\n",
       "      <td>0</td>\n",
       "      <td>PC 17599</td>\n",
       "      <td>71.2833</td>\n",
       "      <td>C85</td>\n",
       "      <td>C</td>\n",
       "    </tr>\n",
       "    <tr>\n",
       "      <th>2</th>\n",
       "      <td>3</td>\n",
       "      <td>1</td>\n",
       "      <td>3</td>\n",
       "      <td>Heikkinen, Miss. Laina</td>\n",
       "      <td>female</td>\n",
       "      <td>26.0</td>\n",
       "      <td>0</td>\n",
       "      <td>0</td>\n",
       "      <td>STON/O2. 3101282</td>\n",
       "      <td>7.9250</td>\n",
       "      <td>NaN</td>\n",
       "      <td>S</td>\n",
       "    </tr>\n",
       "    <tr>\n",
       "      <th>3</th>\n",
       "      <td>4</td>\n",
       "      <td>1</td>\n",
       "      <td>1</td>\n",
       "      <td>Futrelle, Mrs. Jacques Heath (Lily May Peel)</td>\n",
       "      <td>female</td>\n",
       "      <td>35.0</td>\n",
       "      <td>1</td>\n",
       "      <td>0</td>\n",
       "      <td>113803</td>\n",
       "      <td>53.1000</td>\n",
       "      <td>C123</td>\n",
       "      <td>S</td>\n",
       "    </tr>\n",
       "    <tr>\n",
       "      <th>4</th>\n",
       "      <td>5</td>\n",
       "      <td>0</td>\n",
       "      <td>3</td>\n",
       "      <td>Allen, Mr. William Henry</td>\n",
       "      <td>male</td>\n",
       "      <td>35.0</td>\n",
       "      <td>0</td>\n",
       "      <td>0</td>\n",
       "      <td>373450</td>\n",
       "      <td>8.0500</td>\n",
       "      <td>NaN</td>\n",
       "      <td>S</td>\n",
       "    </tr>\n",
       "  </tbody>\n",
       "</table>\n",
       "</div>"
      ],
      "text/plain": [
       "   PassengerId  Survived  Pclass  \\\n",
       "0            1         0       3   \n",
       "1            2         1       1   \n",
       "2            3         1       3   \n",
       "3            4         1       1   \n",
       "4            5         0       3   \n",
       "\n",
       "                                                Name     Sex   Age  SibSp  \\\n",
       "0                            Braund, Mr. Owen Harris    male  22.0      1   \n",
       "1  Cumings, Mrs. John Bradley (Florence Briggs Th...  female  38.0      1   \n",
       "2                             Heikkinen, Miss. Laina  female  26.0      0   \n",
       "3       Futrelle, Mrs. Jacques Heath (Lily May Peel)  female  35.0      1   \n",
       "4                           Allen, Mr. William Henry    male  35.0      0   \n",
       "\n",
       "   Parch            Ticket     Fare Cabin Embarked  \n",
       "0      0         A/5 21171   7.2500   NaN        S  \n",
       "1      0          PC 17599  71.2833   C85        C  \n",
       "2      0  STON/O2. 3101282   7.9250   NaN        S  \n",
       "3      0            113803  53.1000  C123        S  \n",
       "4      0            373450   8.0500   NaN        S  "
      ]
     },
     "execution_count": 85,
     "metadata": {},
     "output_type": "execute_result"
    }
   ],
   "source": [
    "data = pd.read_csv('titanic.csv', sep='\\t')\n",
    "\n",
    "data.head()"
   ]
  },
  {
   "cell_type": "code",
   "execution_count": 89,
   "metadata": {},
   "outputs": [
    {
     "name": "stdout",
     "output_type": "stream",
     "text": [
      "распределение м и ж: \n",
      " Sex\n",
      "male      100\n",
      "female     56\n",
      "Name: count, dtype: int64\n",
      "\n",
      "колво пассажиров в классах:\n",
      "Pclass\n",
      "3    96\n",
      "1    30\n",
      "2    30\n",
      "Name: count, dtype: int64\n",
      "\n",
      "средний возраст пассажиров: 28.14\n",
      "макс возраст пассажиров: 71.00\n",
      "мин возраст пассажиров: 0.83\n",
      "Количество выживших пассажиров: 54\n"
     ]
    }
   ],
   "source": [
    "# рапределение м и ж \n",
    "print(f\"распределение м и ж: \\n {data['Sex'].value_counts()}\\n\")\n",
    "\n",
    "# колво пассажиров в классах\n",
    "print(f\"колво пассажиров в классах:\\n{data['Pclass'].value_counts()}\\n\")\n",
    " \n",
    "# средний возраст пассажиров\n",
    "print(f\"средний возраст пассажиров: {data['Age'].mean():.2f}\")\n",
    "\n",
    "# макс возраст пассажиров\n",
    "print(f\"макс возраст пассажиров: {data['Age'].max():.2f}\")\n",
    "\n",
    "# мин возраст пассажиров \n",
    "print(f\"мин возраст пассажиров: {data['Age'].min():.2f}\")\n",
    "\n",
    "# колво выживших пассажиров \n",
    "print(f\"Количество выживших пассажиров: {data['Survived'].value_counts()[1]}\")"
   ]
  },
  {
   "cell_type": "markdown",
   "metadata": {
    "id": "1ahIW-TCI2r3"
   },
   "source": [
    "**2. (1 балл)** Верно ли, что женщины выживали чаще мужчин? Какие пассажиры выживали чаще: с более дешевыми или дорогими билетами? Верно ли, что чаще выживали более молодые пассажиры?"
   ]
  },
  {
   "cell_type": "code",
   "execution_count": 97,
   "metadata": {},
   "outputs": [
    {
     "name": "stdout",
     "output_type": "stream",
     "text": [
      "колво женщин выживших > колва мужчин выживших?: True\n",
      "сред стоим билетов выживших и погибших: (29.69344074074074, 27.271076470588238)\n",
      "чаще выживали моложые ?: True\n"
     ]
    }
   ],
   "source": [
    "# колво женщин выживших > колва мужчин выживших?\n",
    "print(f\"колво женщин выживших > колва мужчин выживших?: {data.groupby('Sex')['Survived'].mean()['female'] > data.groupby('Sex')['Survived'].mean()['male']}\")\n",
    "# true\n",
    "\n",
    "#  кто чаще выживал, с дешевыми или дорогими билетами\n",
    "data.groupby('Survived')['Fare'].mean()\n",
    "print(f\"сред стоим билетов выживших и погибших: {data.groupby('Survived')['Fare'].mean()[1], data.groupby('Survived')['Fare'].mean()[0]}\")\n",
    "# с дорогими\n",
    "\n",
    "# чаще выживали моложые ?\n",
    "print(f\"чаще выживали моложые ?: {data.groupby('Survived')['Age'].mean()[1] < data.groupby('Survived')['Age'].mean()[0]}\")\n",
    "# true "
   ]
  },
  {
   "cell_type": "markdown",
   "metadata": {
    "id": "MrxN8Y7OI6Vu"
   },
   "source": [
    "**3. (1 балл)** Сгруппируйте записи по классам пассажиров, в каждой группе посчитайте средний возраст. Верно ли, что во всех классах эта величина примерно одинакова?\n"
   ]
  },
  {
   "cell_type": "code",
   "execution_count": 102,
   "metadata": {},
   "outputs": [
    {
     "name": "stdout",
     "output_type": "stream",
     "text": [
      "сред возраст пассажиров разных классов примерно одинаков?: False\n"
     ]
    }
   ],
   "source": [
    "print(f\"сред возраст пассажиров разных классов примерно одинаков?: {data.groupby('Pclass')['Age'].mean().max() - data.groupby('Pclass')['Age'].mean().min() < 3}\")\n",
    "#пусть разница в 3 года это почти одинаково -> по классам это сред возраст не одинаков"
   ]
  },
  {
   "cell_type": "markdown",
   "metadata": {
    "id": "2Ee80P1KI86d"
   },
   "source": [
    "**4. (1 балл)** Найдите все признаки, для которых есть пропуски в данных. Обычно алгоритмы по умолчанию не умеют обрабатывать такие данные. Предложите несколько способов обработки данных с пропусками и укажите достоинства/недостаки каждого. Проиллюстрируйте не менее двух из предложенных их на примере данного датасета."
   ]
  },
  {
   "cell_type": "code",
   "execution_count": null,
   "metadata": {},
   "outputs": [],
   "source": []
  },
  {
   "cell_type": "markdown",
   "metadata": {
    "id": "9k3a3TwQJIvu"
   },
   "source": [
    "### (2 балла) Matplotlib\n"
   ]
  },
  {
   "cell_type": "markdown",
   "metadata": {
    "id": "2p8qJF4rJbOl"
   },
   "source": [
    "Обратите внимание, что у графиков должны быть подписаны оси, заголовок графика и при необходимости обязательно наличие легенды. За отсутствие названий графиков и подписей к осям могут снижаться баллы. Все картинки должны быть самодостаточны и визуально удобны для восприятия, так чтобы не нужно было смотреть ваш код или знать задание, чтобы понять что на них изображено.\n",
    "\n",
    "![](https://imgs.xkcd.com/comics/convincing.png)\n",
    "\n",
    "**1. (1 балл)** Используя функцию *gen_uncertain_data* для генерации выборки, отобразите на графике синим цветом функцию *y(x)*, а также ее доверительный интервал в виде закрашенной зеленым цветом области от *y[i] - error[i]* до *y[i] + error[i]*. Полезной может оказаться функция *fill_between*.\n"
   ]
  },
  {
   "cell_type": "code",
   "execution_count": 131,
   "metadata": {
    "id": "07pRnpSVJbhv"
   },
   "outputs": [
    {
     "data": {
      "image/png": "[encoded data removed]",
      "text/plain": [
       "<Figure size 2000x500 with 1 Axes>"
      ]
     },
     "metadata": {},
     "output_type": "display_data"
    }
   ],
   "source": [
    "import matplotlib.pyplot as plt\n",
    "\n",
    "def gen_uncertain_data():\n",
    "        x = np.linspace(0, 30, 100)\n",
    "        y = np.sin(x/6*np.pi) + np.random.normal(0, 0.02, size=x.shape)\n",
    "        error = np.random.normal(0.1, 0.02, size=y.shape)\n",
    "        return x, y, error\n",
    "\n",
    "\n",
    "x, y, err = gen_uncertain_data()\n",
    "plt.figure(figsize=(20, 5))\n",
    "plt.plot(x, y, color='blue', label='y(x)')\n",
    "plt.fill_between(x, y - err, y + err, color='green', label='довер. интервал')\n",
    "plt.title('y(x) и ее довер. интервал')\n",
    "plt.xlabel('ось x')\n",
    "plt.ylabel('ось y')\n",
    "plt.legend()\n",
    "plt.show()"
   ]
  },
  {
   "cell_type": "markdown",
   "metadata": {
    "id": "eEnOCJkEJp6I"
   },
   "source": [
    "**2. (1 балл)** Отобразите гистограмму распределения возрастов для каждого класса пассажиров (здесь нужно использовать данные из заданий по pandas). В результате вы должны получить три гистограммы, которые необходимо отобразить рядом друг с другом используя функцию *plt.subplots*. Каждая гистограмма должна быть нормирована. Обратите внимание на параметры *figsize*, *sharey*, *sharex* функции *plt.subplots*. Также полезными могут оказаться параметры *bins*, *density* функции *plt.hist*.\n"
   ]
  },
  {
   "cell_type": "code",
   "execution_count": 130,
   "metadata": {},
   "outputs": [
    {
     "data": {
      "image/png": "[encoded data removed]",
      "text/plain": [
       "<Figure size 2000x500 with 3 Axes>"
      ]
     },
     "metadata": {},
     "output_type": "display_data"
    }
   ],
   "source": [
    "fig, axs = plt.subplots(1, 3, figsize=(20, 5), sharey=True, sharex=True)\n",
    "\n",
    "plt.suptitle('распределение пассажиров разных классов по возрасту')\n",
    "\n",
    "axs[0].set_ylabel('density')\n",
    "\n",
    "\n",
    "axs[0].hist(data[data['Pclass'] == 1]['Age'].dropna(), bins=30, density=True, color='grey')\n",
    "axs[1].hist(data[data['Pclass'] == 2]['Age'].dropna(), bins=30, density=True, color='tan')\n",
    "axs[2].hist(data[data['Pclass'] == 3]['Age'].dropna(), bins=30, density=True, color='rosybrown')\n",
    "\n",
    "axs[0].set_title('class 1')\n",
    "axs[1].set_title('class 2')\n",
    "axs[2].set_title('class 3')\n",
    "\n",
    "axs[0].set_xlabel('age')\n",
    "axs[1].set_xlabel('age')\n",
    "axs[2].set_xlabel('age')\n",
    "\n",
    "plt.show()"
   ]
  }
 ],
 "metadata": {
  "colab": {
   "name": "HW1.ipynb",
   "provenance": []
  },
  "kernelspec": {
   "display_name": "Python 3",
   "language": "python",
   "name": "python3"
  },
  "language_info": {
   "codemirror_mode": {
    "name": "ipython",
    "version": 3
   },
   "file_extension": ".py",
   "mimetype": "text/x-python",
   "name": "python",
   "nbconvert_exporter": "python",
   "pygments_lexer": "ipython3",
   "version": "3.12.2"
  }
 },
 "nbformat": 4,
 "nbformat_minor": 1
}
